{
 "cells": [
  {
   "cell_type": "markdown",
   "metadata": {},
   "source": [
    "# Lab Events"
   ]
  },
  {
   "cell_type": "code",
   "execution_count": 7,
   "metadata": {},
   "outputs": [],
   "source": [
    "import pandas as pd  # type: ignore\n",
    "import os \n",
    "import glob \n",
    "from datetime import datetime\n",
    "import numpy as np\n",
    "\n",
    "import warnings\n",
    "# Temporarily suppress FutureWarnings\n",
    "with warnings.catch_warnings():\n",
    "    warnings.simplefilter(\"ignore\", FutureWarning)"
   ]
  },
  {
   "cell_type": "code",
   "execution_count": 8,
   "metadata": {},
   "outputs": [
    {
     "data": {
      "text/html": [
       "<div>\n",
       "<style scoped>\n",
       "    .dataframe tbody tr th:only-of-type {\n",
       "        vertical-align: middle;\n",
       "    }\n",
       "\n",
       "    .dataframe tbody tr th {\n",
       "        vertical-align: top;\n",
       "    }\n",
       "\n",
       "    .dataframe thead th {\n",
       "        text-align: right;\n",
       "    }\n",
       "</style>\n",
       "<table border=\"1\" class=\"dataframe\">\n",
       "  <thead>\n",
       "    <tr style=\"text-align: right;\">\n",
       "      <th></th>\n",
       "      <th>row_id</th>\n",
       "      <th>subject_id</th>\n",
       "      <th>hadm_id</th>\n",
       "      <th>itemid</th>\n",
       "      <th>charttime</th>\n",
       "      <th>value</th>\n",
       "      <th>valuenum</th>\n",
       "      <th>valueuom</th>\n",
       "      <th>flag</th>\n",
       "    </tr>\n",
       "  </thead>\n",
       "  <tbody>\n",
       "    <tr>\n",
       "      <th>0</th>\n",
       "      <td>6244563</td>\n",
       "      <td>10006</td>\n",
       "      <td>NaN</td>\n",
       "      <td>50868</td>\n",
       "      <td>2164-09-24 20:21:00</td>\n",
       "      <td>19</td>\n",
       "      <td>19.0</td>\n",
       "      <td>mEq/L</td>\n",
       "      <td>NaN</td>\n",
       "    </tr>\n",
       "    <tr>\n",
       "      <th>1</th>\n",
       "      <td>6244564</td>\n",
       "      <td>10006</td>\n",
       "      <td>NaN</td>\n",
       "      <td>50882</td>\n",
       "      <td>2164-09-24 20:21:00</td>\n",
       "      <td>27</td>\n",
       "      <td>27.0</td>\n",
       "      <td>mEq/L</td>\n",
       "      <td>NaN</td>\n",
       "    </tr>\n",
       "    <tr>\n",
       "      <th>2</th>\n",
       "      <td>6244565</td>\n",
       "      <td>10006</td>\n",
       "      <td>NaN</td>\n",
       "      <td>50893</td>\n",
       "      <td>2164-09-24 20:21:00</td>\n",
       "      <td>10.0</td>\n",
       "      <td>10.0</td>\n",
       "      <td>mg/dL</td>\n",
       "      <td>NaN</td>\n",
       "    </tr>\n",
       "    <tr>\n",
       "      <th>3</th>\n",
       "      <td>6244566</td>\n",
       "      <td>10006</td>\n",
       "      <td>NaN</td>\n",
       "      <td>50902</td>\n",
       "      <td>2164-09-24 20:21:00</td>\n",
       "      <td>97</td>\n",
       "      <td>97.0</td>\n",
       "      <td>mEq/L</td>\n",
       "      <td>NaN</td>\n",
       "    </tr>\n",
       "    <tr>\n",
       "      <th>4</th>\n",
       "      <td>6244567</td>\n",
       "      <td>10006</td>\n",
       "      <td>NaN</td>\n",
       "      <td>50912</td>\n",
       "      <td>2164-09-24 20:21:00</td>\n",
       "      <td>7.0</td>\n",
       "      <td>7.0</td>\n",
       "      <td>mg/dL</td>\n",
       "      <td>abnormal</td>\n",
       "    </tr>\n",
       "  </tbody>\n",
       "</table>\n",
       "</div>"
      ],
      "text/plain": [
       "    row_id  subject_id  hadm_id  itemid            charttime value  valuenum  \\\n",
       "0  6244563       10006      NaN   50868  2164-09-24 20:21:00    19      19.0   \n",
       "1  6244564       10006      NaN   50882  2164-09-24 20:21:00    27      27.0   \n",
       "2  6244565       10006      NaN   50893  2164-09-24 20:21:00  10.0      10.0   \n",
       "3  6244566       10006      NaN   50902  2164-09-24 20:21:00    97      97.0   \n",
       "4  6244567       10006      NaN   50912  2164-09-24 20:21:00   7.0       7.0   \n",
       "\n",
       "  valueuom      flag  \n",
       "0    mEq/L       NaN  \n",
       "1    mEq/L       NaN  \n",
       "2    mg/dL       NaN  \n",
       "3    mEq/L       NaN  \n",
       "4    mg/dL  abnormal  "
      ]
     },
     "execution_count": 8,
     "metadata": {},
     "output_type": "execute_result"
    }
   ],
   "source": [
    "# Setting the Directory\n",
    "\n",
    "directory = '/Users/maxb/Library/CloudStorage/OneDrive-UniversityofWaterloo/Hospital Research/Datasets/MIMIC-III_demo'\n",
    "os.chdir(directory)\n",
    "\n",
    "# Loading Dataset\n",
    "lab_df = pd.read_csv(\"LABEVENTS.csv\")\n",
    "m,n = lab_df.shape\n",
    "lab_df.head()"
   ]
  },
  {
   "cell_type": "code",
   "execution_count": 9,
   "metadata": {},
   "outputs": [
    {
     "name": "stdout",
     "output_type": "stream",
     "text": [
      "[nan 'abnormal' 'delta']\n"
     ]
    }
   ],
   "source": [
    "flag = lab_df[\"flag\"].unique()\n",
    "print(flag)\n",
    "\n",
    "# Replacing abonromal with 1, delta with 2 and Nan with 0\n",
    "lab_df['flag'] = lab_df['flag'].apply(lambda x: 1 if x == 'abnormal' else 2 if x == 'delta' else 0)"
   ]
  },
  {
   "cell_type": "code",
   "execution_count": 10,
   "metadata": {},
   "outputs": [],
   "source": [
    "col_drops = [\"hadm_id\", \"value\", \"charttime\", \"row_id\"]\n",
    "\n",
    "for i in col_drops:\n",
    "    lab_df = lab_df.drop(i, axis=1)"
   ]
  },
  {
   "cell_type": "code",
   "execution_count": 11,
   "metadata": {},
   "outputs": [
    {
     "name": "stdout",
     "output_type": "stream",
     "text": [
      "Lab Events: (76074, 5)\n"
     ]
    },
    {
     "data": {
      "text/html": [
       "<div>\n",
       "<style scoped>\n",
       "    .dataframe tbody tr th:only-of-type {\n",
       "        vertical-align: middle;\n",
       "    }\n",
       "\n",
       "    .dataframe tbody tr th {\n",
       "        vertical-align: top;\n",
       "    }\n",
       "\n",
       "    .dataframe thead th {\n",
       "        text-align: right;\n",
       "    }\n",
       "</style>\n",
       "<table border=\"1\" class=\"dataframe\">\n",
       "  <thead>\n",
       "    <tr style=\"text-align: right;\">\n",
       "      <th></th>\n",
       "      <th>subject_id</th>\n",
       "      <th>itemid</th>\n",
       "      <th>valuenum</th>\n",
       "      <th>valueuom</th>\n",
       "      <th>flag</th>\n",
       "    </tr>\n",
       "  </thead>\n",
       "  <tbody>\n",
       "    <tr>\n",
       "      <th>0</th>\n",
       "      <td>10006</td>\n",
       "      <td>50868</td>\n",
       "      <td>19.0</td>\n",
       "      <td>mEq/L</td>\n",
       "      <td>0</td>\n",
       "    </tr>\n",
       "    <tr>\n",
       "      <th>1</th>\n",
       "      <td>10006</td>\n",
       "      <td>50882</td>\n",
       "      <td>27.0</td>\n",
       "      <td>mEq/L</td>\n",
       "      <td>0</td>\n",
       "    </tr>\n",
       "    <tr>\n",
       "      <th>2</th>\n",
       "      <td>10006</td>\n",
       "      <td>50893</td>\n",
       "      <td>10.0</td>\n",
       "      <td>mg/dL</td>\n",
       "      <td>0</td>\n",
       "    </tr>\n",
       "    <tr>\n",
       "      <th>3</th>\n",
       "      <td>10006</td>\n",
       "      <td>50902</td>\n",
       "      <td>97.0</td>\n",
       "      <td>mEq/L</td>\n",
       "      <td>0</td>\n",
       "    </tr>\n",
       "    <tr>\n",
       "      <th>4</th>\n",
       "      <td>10006</td>\n",
       "      <td>50912</td>\n",
       "      <td>7.0</td>\n",
       "      <td>mg/dL</td>\n",
       "      <td>1</td>\n",
       "    </tr>\n",
       "  </tbody>\n",
       "</table>\n",
       "</div>"
      ],
      "text/plain": [
       "   subject_id  itemid  valuenum valueuom  flag\n",
       "0       10006   50868      19.0    mEq/L     0\n",
       "1       10006   50882      27.0    mEq/L     0\n",
       "2       10006   50893      10.0    mg/dL     0\n",
       "3       10006   50902      97.0    mEq/L     0\n",
       "4       10006   50912       7.0    mg/dL     1"
      ]
     },
     "execution_count": 11,
     "metadata": {},
     "output_type": "execute_result"
    }
   ],
   "source": [
    "print(\"Lab Events:\", lab_df.shape)\n",
    "lab_df.head()"
   ]
  },
  {
   "cell_type": "code",
   "execution_count": 12,
   "metadata": {},
   "outputs": [],
   "source": [
    "lab_df.to_csv('/Users/maxb/Library/CloudStorage/OneDrive-UniversityofWaterloo/Hospital Research/Scripts/Cleaned MIMIC-III Datasets/LAB.csv')"
   ]
  },
  {
   "cell_type": "markdown",
   "metadata": {},
   "source": [
    "# Conclusion\n",
    "\n",
    "Data has been cleaned. Some additional manipulation may be performed"
   ]
  }
 ],
 "metadata": {
  "kernelspec": {
   "display_name": "myenv",
   "language": "python",
   "name": "python3"
  },
  "language_info": {
   "codemirror_mode": {
    "name": "ipython",
    "version": 3
   },
   "file_extension": ".py",
   "mimetype": "text/x-python",
   "name": "python",
   "nbconvert_exporter": "python",
   "pygments_lexer": "ipython3",
   "version": "3.12.6"
  }
 },
 "nbformat": 4,
 "nbformat_minor": 2
}
