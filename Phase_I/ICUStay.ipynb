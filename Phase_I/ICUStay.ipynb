{
 "cells": [
  {
   "cell_type": "markdown",
   "metadata": {},
   "source": [
    "# ICU Stay"
   ]
  },
  {
   "cell_type": "markdown",
   "metadata": {},
   "source": [
    "Defines a single ICU stay"
   ]
  },
  {
   "cell_type": "code",
   "execution_count": 5,
   "metadata": {},
   "outputs": [],
   "source": [
    "import pandas as pd  # type: ignore\n",
    "import os \n",
    "import glob \n",
    "from datetime import datetime\n",
    "import numpy as np\n",
    "\n",
    "import warnings\n",
    "# Temporarily suppress FutureWarnings\n",
    "with warnings.catch_warnings():\n",
    "    warnings.simplefilter(\"ignore\", FutureWarning)"
   ]
  },
  {
   "cell_type": "code",
   "execution_count": 6,
   "metadata": {},
   "outputs": [],
   "source": [
    "directory = '/Users/maxb/Library/CloudStorage/OneDrive-UniversityofWaterloo/Hospital Research/Datasets/MIMIC-III_demo'\n",
    "os.chdir(directory)\n",
    "\n",
    "admdf = pd.read_csv('/Users/maxb/Library/CloudStorage/OneDrive-UniversityofWaterloo/Hospital Research/Datasets/Cleaned MIMIC-III Dataset/ADMISSION.csv')\n",
    "icus_df = pd.read_csv(\"ICUSTAYS.csv\")\n",
    "\n",
    "icus_df['intime'] = icus_df['intime'].apply(lambda x: datetime.strptime(x, '%Y-%m-%d %H:%M:%S'))\n",
    "icus_df['outtime'] = icus_df['outtime'].apply(lambda x: datetime.strptime(x, '%Y-%m-%d %H:%M:%S'))"
   ]
  },
  {
   "cell_type": "code",
   "execution_count": 7,
   "metadata": {},
   "outputs": [],
   "source": [
    "subjects = list(admdf['subject_id'])\n",
    "\n",
    "icus_df_new = pd.DataFrame()\n",
    "\n",
    "for i in subjects:\n",
    "    if i in list(icus_df['subject_id']):\n",
    "       icus_df_new = pd.concat([icus_df.loc[(icus_df['subject_id'] == i) & (icus_df['intime'] >= pd.Series.to_string(admdf.loc[admdf['subject_id'] ==  i, 'admittime'], index=False)) & \n",
    "                            (icus_df['intime'] <= pd.Series.to_string(admdf.loc[admdf['subject_id'] ==  i, 'dischtime'], index=False))], icus_df_new])\n",
    "\n",
    "icus_df = icus_df_new"
   ]
  },
  {
   "cell_type": "code",
   "execution_count": 8,
   "metadata": {},
   "outputs": [],
   "source": [
    "icus_df = icus_df[['subject_id','hadm_id','icustay_id', 'los']]\n",
    "cols = list(icus_df.columns)\n",
    "\n",
    "for i in cols:\n",
    "    check_nan = icus_df[i].isnull().values.any()\n",
    "    if check_nan == True:\n",
    "        print(\"Nan value found in column:\", i)"
   ]
  },
  {
   "cell_type": "code",
   "execution_count": 9,
   "metadata": {},
   "outputs": [
    {
     "name": "stdout",
     "output_type": "stream",
     "text": [
      "ICU Stay: (67, 4)\n"
     ]
    },
    {
     "data": {
      "text/html": [
       "<div>\n",
       "<style scoped>\n",
       "    .dataframe tbody tr th:only-of-type {\n",
       "        vertical-align: middle;\n",
       "    }\n",
       "\n",
       "    .dataframe tbody tr th {\n",
       "        vertical-align: top;\n",
       "    }\n",
       "\n",
       "    .dataframe thead th {\n",
       "        text-align: right;\n",
       "    }\n",
       "</style>\n",
       "<table border=\"1\" class=\"dataframe\">\n",
       "  <thead>\n",
       "    <tr style=\"text-align: right;\">\n",
       "      <th></th>\n",
       "      <th>subject_id</th>\n",
       "      <th>hadm_id</th>\n",
       "      <th>icustay_id</th>\n",
       "      <th>los</th>\n",
       "    </tr>\n",
       "  </thead>\n",
       "  <tbody>\n",
       "    <tr>\n",
       "      <th>93</th>\n",
       "      <td>41976</td>\n",
       "      <td>149469</td>\n",
       "      <td>216493</td>\n",
       "      <td>1.9456</td>\n",
       "    </tr>\n",
       "    <tr>\n",
       "      <th>121</th>\n",
       "      <td>43798</td>\n",
       "      <td>130870</td>\n",
       "      <td>243229</td>\n",
       "      <td>7.1076</td>\n",
       "    </tr>\n",
       "    <tr>\n",
       "      <th>56</th>\n",
       "      <td>10127</td>\n",
       "      <td>182839</td>\n",
       "      <td>271544</td>\n",
       "      <td>22.3895</td>\n",
       "    </tr>\n",
       "    <tr>\n",
       "      <th>5</th>\n",
       "      <td>10026</td>\n",
       "      <td>103770</td>\n",
       "      <td>277021</td>\n",
       "      <td>2.4056</td>\n",
       "    </tr>\n",
       "    <tr>\n",
       "      <th>18</th>\n",
       "      <td>10046</td>\n",
       "      <td>133110</td>\n",
       "      <td>213289</td>\n",
       "      <td>2.8833</td>\n",
       "    </tr>\n",
       "  </tbody>\n",
       "</table>\n",
       "</div>"
      ],
      "text/plain": [
       "     subject_id  hadm_id  icustay_id      los\n",
       "93        41976   149469      216493   1.9456\n",
       "121       43798   130870      243229   7.1076\n",
       "56        10127   182839      271544  22.3895\n",
       "5         10026   103770      277021   2.4056\n",
       "18        10046   133110      213289   2.8833"
      ]
     },
     "execution_count": 9,
     "metadata": {},
     "output_type": "execute_result"
    }
   ],
   "source": [
    "print(\"ICU Stay:\", icus_df.shape)\n",
    "icus_df.head()"
   ]
  },
  {
   "cell_type": "code",
   "execution_count": 11,
   "metadata": {},
   "outputs": [],
   "source": [
    "icus_df.to_csv('/Users/maxb/Library/CloudStorage/OneDrive-UniversityofWaterloo/Hospital Research/Datasets/Cleaned MIMIC-III Dataset/ICUSTAY.csv')"
   ]
  },
  {
   "cell_type": "markdown",
   "metadata": {},
   "source": [
    "# Data Cleaned"
   ]
  }
 ],
 "metadata": {
  "kernelspec": {
   "display_name": "myenv",
   "language": "python",
   "name": "python3"
  },
  "language_info": {
   "codemirror_mode": {
    "name": "ipython",
    "version": 3
   },
   "file_extension": ".py",
   "mimetype": "text/x-python",
   "name": "python",
   "nbconvert_exporter": "python",
   "pygments_lexer": "ipython3",
   "version": "3.12.6"
  }
 },
 "nbformat": 4,
 "nbformat_minor": 2
}
