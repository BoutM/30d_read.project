{
 "cells": [
  {
   "cell_type": "markdown",
   "metadata": {},
   "source": [
    "# Admission Table Cleaning"
   ]
  },
  {
   "cell_type": "code",
   "execution_count": 138,
   "metadata": {},
   "outputs": [],
   "source": [
    "import pandas as pd  # type: ignore\n",
    "import os \n",
    "import glob \n",
    "from datetime import datetime\n",
    "import numpy as np\n",
    "\n",
    "import warnings\n",
    "# Temporarily suppress FutureWarnings\n",
    "with warnings.catch_warnings():\n",
    "    warnings.simplefilter(\"ignore\", FutureWarning)"
   ]
  },
  {
   "cell_type": "code",
   "execution_count": 139,
   "metadata": {},
   "outputs": [],
   "source": [
    "directory = '/Users/maxb/Library/CloudStorage/OneDrive-UniversityofWaterloo/Hospital Research/Datasets/MIMIC-III_demo'\n",
    "os.chdir(directory)\n",
    "admis_df = pd.read_csv(\"ADMISSIONS.csv\")"
   ]
  },
  {
   "cell_type": "code",
   "execution_count": 140,
   "metadata": {},
   "outputs": [],
   "source": [
    "admis_df[\"edregtime\"] = admis_df[\"edregtime\"].fillna(\"1677-09-22 00:00:00\")                                             \n",
    "admis_df[\"edouttime\"] = admis_df[\"edouttime\"].fillna(\"1677-09-22 00:00:00\")\n",
    "\n",
    "admis_df['admittime'] = admis_df['admittime'].apply(lambda x: datetime.strptime(x, '%Y-%m-%d %H:%M:%S'))\n",
    "admis_df['dischtime'] = admis_df['dischtime'].apply(lambda x: datetime.strptime(x, '%Y-%m-%d %H:%M:%S'))\n",
    "admis_df['edregtime'] = admis_df['edregtime'].apply(lambda x: datetime.strptime(x, '%Y-%m-%d %H:%M:%S'))\n",
    "admis_df['edouttime'] = admis_df['edouttime'].apply(lambda x: datetime.strptime(x, '%Y-%m-%d %H:%M:%S'))\n",
    "\n",
    "# Sorting the dates from lowest to highest\n",
    "admis_df = admis_df.sort_values('admittime')            "
   ]
  },
  {
   "cell_type": "markdown",
   "metadata": {},
   "source": [
    "Creating readmission feature"
   ]
  },
  {
   "cell_type": "code",
   "execution_count": 141,
   "metadata": {},
   "outputs": [
    {
     "name": "stdout",
     "output_type": "stream",
     "text": [
      "100\n"
     ]
    }
   ],
   "source": [
    "# Unsure why but I need to re-import this without the prior made specification. This allows the use of the time.delta function\n",
    "import datetime\n",
    "\n",
    "# Gathering the patients with a 30d readmission\n",
    "\n",
    "subjects = admis_df['subject_id'].unique()\n",
    "print(len(subjects))\n",
    "read_30d = []\n",
    "\n",
    "for j in subjects:                                                                                                                          # Looping over all unique patients\n",
    "\n",
    "    if len(admis_df.loc[(admis_df['subject_id'] == j)]) >= 2 :                                                                              # Checking whether they have more than 1 entry\n",
    "\n",
    "        mult_entries = admis_df.loc[(admis_df['subject_id'] == j)].reset_index()                                                            # Subsetting dataframe\n",
    "        admis_df.loc[(admis_df['subject_id'] == j), '30d_read'] = 2                                                                         # Flagging all other entries with 2 to be removed     \n",
    "        admis_df.loc[(admis_df['subject_id'] == j) & (admis_df['admittime'] == mult_entries['admittime'][0]), '30d_read'] = 0               # Keeping the first patient entry\n",
    "        \n",
    "        for k in range(len(mult_entries['admittime'])-1):\n",
    "            if abs(mult_entries['dischtime'][k] - mult_entries['admittime'][k+1]) <= datetime.timedelta(days=30):                           # Checking whether they have a readmission within 30d of discharge\n",
    "                admis_df.loc[(admis_df['subject_id'] == j) & (admis_df['admittime'] == mult_entries['admittime'][k]) , '30d_read'] = 1      # If they do; replace the preious entry with a readmission flag and discard all other entries\n",
    "                admis_df.loc[(admis_df['subject_id'] == j) & (admis_df['admittime'] != mult_entries['admittime'][k]) , '30d_read'] = 2\n",
    "\n",
    "    else:\n",
    "        admis_df.loc[(admis_df['subject_id'] == j), '30d_read'] = 0"
   ]
  },
  {
   "cell_type": "code",
   "execution_count": 142,
   "metadata": {},
   "outputs": [
    {
     "data": {
      "text/html": [
       "<div>\n",
       "<style scoped>\n",
       "    .dataframe tbody tr th:only-of-type {\n",
       "        vertical-align: middle;\n",
       "    }\n",
       "\n",
       "    .dataframe tbody tr th {\n",
       "        vertical-align: top;\n",
       "    }\n",
       "\n",
       "    .dataframe thead th {\n",
       "        text-align: right;\n",
       "    }\n",
       "</style>\n",
       "<table border=\"1\" class=\"dataframe\">\n",
       "  <thead>\n",
       "    <tr style=\"text-align: right;\">\n",
       "      <th></th>\n",
       "      <th>row_id</th>\n",
       "      <th>subject_id</th>\n",
       "      <th>hadm_id</th>\n",
       "      <th>admittime</th>\n",
       "      <th>dischtime</th>\n",
       "      <th>deathtime</th>\n",
       "      <th>admission_type</th>\n",
       "      <th>admission_location</th>\n",
       "      <th>discharge_location</th>\n",
       "      <th>insurance</th>\n",
       "      <th>language</th>\n",
       "      <th>religion</th>\n",
       "      <th>marital_status</th>\n",
       "      <th>ethnicity</th>\n",
       "      <th>edregtime</th>\n",
       "      <th>edouttime</th>\n",
       "      <th>diagnosis</th>\n",
       "      <th>hospital_expire_flag</th>\n",
       "      <th>has_chartevents_data</th>\n",
       "      <th>30d_read</th>\n",
       "    </tr>\n",
       "  </thead>\n",
       "  <tbody>\n",
       "    <tr>\n",
       "      <th>117</th>\n",
       "      <td>40992</td>\n",
       "      <td>43879</td>\n",
       "      <td>158100</td>\n",
       "      <td>2106-08-30 15:43:00</td>\n",
       "      <td>2106-08-31 15:15:00</td>\n",
       "      <td>NaN</td>\n",
       "      <td>EMERGENCY</td>\n",
       "      <td>CLINIC REFERRAL/PREMATURE</td>\n",
       "      <td>HOME</td>\n",
       "      <td>Medicare</td>\n",
       "      <td>ENGL</td>\n",
       "      <td>PROTESTANT QUAKER</td>\n",
       "      <td>MARRIED</td>\n",
       "      <td>BLACK/AFRICAN AMERICAN</td>\n",
       "      <td>1677-09-22</td>\n",
       "      <td>1677-09-22</td>\n",
       "      <td>PLEURAL EFFUSION</td>\n",
       "      <td>0</td>\n",
       "      <td>1</td>\n",
       "      <td>0.0</td>\n",
       "    </tr>\n",
       "  </tbody>\n",
       "</table>\n",
       "</div>"
      ],
      "text/plain": [
       "     row_id  subject_id  hadm_id           admittime           dischtime  \\\n",
       "117   40992       43879   158100 2106-08-30 15:43:00 2106-08-31 15:15:00   \n",
       "\n",
       "    deathtime admission_type         admission_location discharge_location  \\\n",
       "117       NaN      EMERGENCY  CLINIC REFERRAL/PREMATURE               HOME   \n",
       "\n",
       "    insurance language           religion marital_status  \\\n",
       "117  Medicare     ENGL  PROTESTANT QUAKER        MARRIED   \n",
       "\n",
       "                  ethnicity  edregtime  edouttime         diagnosis  \\\n",
       "117  BLACK/AFRICAN AMERICAN 1677-09-22 1677-09-22  PLEURAL EFFUSION   \n",
       "\n",
       "     hospital_expire_flag  has_chartevents_data  30d_read  \n",
       "117                     0                     1       0.0  "
      ]
     },
     "execution_count": 142,
     "metadata": {},
     "output_type": "execute_result"
    }
   ],
   "source": [
    "admis_df.loc[(admis_df['subject_id'] == subjects[3])]"
   ]
  },
  {
   "cell_type": "markdown",
   "metadata": {},
   "source": [
    "IMPORTANT NOTE: Need to remove patient's second stay and add readmission flag to prior stay"
   ]
  },
  {
   "cell_type": "code",
   "execution_count": 143,
   "metadata": {},
   "outputs": [
    {
     "name": "stdout",
     "output_type": "stream",
     "text": [
      "40\n"
     ]
    }
   ],
   "source": [
    "print(len(admis_df[admis_df['hospital_expire_flag'] == 1]))\n",
    "admis_df = admis_df.drop(admis_df[admis_df['hospital_expire_flag'] == 1].index)                             # Removing All observations where a patient died\n",
    "admis_df = admis_df.drop(admis_df[admis_df['30d_read'] == 2].index)                                         # Dropping al flagsg of irrelevant entries\n",
    "admis_df['marital_status'] = admis_df['marital_status'].apply(lambda x: 1 if x == \"MARRIED\" else 0)         # Setting Marital Status to binary variables\n",
    "\n",
    "# admis_df['insurance'] = admis_df['insurance'].apply(lambda x: 0 if x == \"Private\" else 1 if x == \"medicare\" else 2)"
   ]
  },
  {
   "cell_type": "markdown",
   "metadata": {},
   "source": [
    "Creating Features:"
   ]
  },
  {
   "cell_type": "code",
   "execution_count": 144,
   "metadata": {},
   "outputs": [],
   "source": [
    "admis_df['admit_duration'] = admis_df['dischtime'] - admis_df['admittime']                          # Admission Duration time\n",
    "admis_df['ed_duration'] = admis_df['edouttime'] - admis_df['edregtime']                             # Admission Duration time"
   ]
  },
  {
   "cell_type": "markdown",
   "metadata": {},
   "source": [
    "Removing unnecessary variables"
   ]
  },
  {
   "cell_type": "code",
   "execution_count": 145,
   "metadata": {},
   "outputs": [],
   "source": [
    "col_drops = [\"row_id\", \"language\", \"religion\", \"hospital_expire_flag\", \"hadm_id\", \"has_chartevents_data\", \"edregtime\", \"edouttime\", \"deathtime\", \"diagnosis\"]\n",
    "\n",
    "for i in col_drops:\n",
    "    admis_df = admis_df.drop(i, axis=1)"
   ]
  },
  {
   "cell_type": "code",
   "execution_count": 146,
   "metadata": {},
   "outputs": [],
   "source": [
    "cols = list(admis_df.columns)\n",
    "\n",
    "for i in cols:\n",
    "    check_nan = admis_df[i].isnull().values.any()\n",
    "    if check_nan == True:\n",
    "        print(i)\n",
    "        print(\"Nan value found\")\n",
    "        break"
   ]
  },
  {
   "cell_type": "markdown",
   "metadata": {},
   "source": [
    "# Admission table has been cleaned"
   ]
  },
  {
   "cell_type": "code",
   "execution_count": 147,
   "metadata": {},
   "outputs": [
    {
     "name": "stdout",
     "output_type": "stream",
     "text": [
      "Admission: (67, 12)\n"
     ]
    },
    {
     "data": {
      "text/html": [
       "<div>\n",
       "<style scoped>\n",
       "    .dataframe tbody tr th:only-of-type {\n",
       "        vertical-align: middle;\n",
       "    }\n",
       "\n",
       "    .dataframe tbody tr th {\n",
       "        vertical-align: top;\n",
       "    }\n",
       "\n",
       "    .dataframe thead th {\n",
       "        text-align: right;\n",
       "    }\n",
       "</style>\n",
       "<table border=\"1\" class=\"dataframe\">\n",
       "  <thead>\n",
       "    <tr style=\"text-align: right;\">\n",
       "      <th></th>\n",
       "      <th>subject_id</th>\n",
       "      <th>admittime</th>\n",
       "      <th>dischtime</th>\n",
       "      <th>admission_type</th>\n",
       "      <th>admission_location</th>\n",
       "      <th>discharge_location</th>\n",
       "      <th>insurance</th>\n",
       "      <th>marital_status</th>\n",
       "      <th>ethnicity</th>\n",
       "      <th>30d_read</th>\n",
       "      <th>admit_duration</th>\n",
       "      <th>ed_duration</th>\n",
       "    </tr>\n",
       "  </thead>\n",
       "  <tbody>\n",
       "    <tr>\n",
       "      <th>98</th>\n",
       "      <td>42231</td>\n",
       "      <td>2102-08-29 07:15:00</td>\n",
       "      <td>2102-09-06 16:20:00</td>\n",
       "      <td>ELECTIVE</td>\n",
       "      <td>PHYS REFERRAL/NORMAL DELI</td>\n",
       "      <td>HOME HEALTH CARE</td>\n",
       "      <td>Medicare</td>\n",
       "      <td>1</td>\n",
       "      <td>WHITE</td>\n",
       "      <td>0.0</td>\n",
       "      <td>8 days 09:05:00</td>\n",
       "      <td>0 days 00:00:00</td>\n",
       "    </tr>\n",
       "    <tr>\n",
       "      <th>118</th>\n",
       "      <td>43881</td>\n",
       "      <td>2104-09-24 17:31:00</td>\n",
       "      <td>2104-09-30 16:17:00</td>\n",
       "      <td>EMERGENCY</td>\n",
       "      <td>EMERGENCY ROOM ADMIT</td>\n",
       "      <td>HOME HEALTH CARE</td>\n",
       "      <td>Private</td>\n",
       "      <td>1</td>\n",
       "      <td>WHITE</td>\n",
       "      <td>1.0</td>\n",
       "      <td>5 days 22:46:00</td>\n",
       "      <td>0 days 06:43:00</td>\n",
       "    </tr>\n",
       "    <tr>\n",
       "      <th>117</th>\n",
       "      <td>43879</td>\n",
       "      <td>2106-08-30 15:43:00</td>\n",
       "      <td>2106-08-31 15:15:00</td>\n",
       "      <td>EMERGENCY</td>\n",
       "      <td>CLINIC REFERRAL/PREMATURE</td>\n",
       "      <td>HOME</td>\n",
       "      <td>Medicare</td>\n",
       "      <td>1</td>\n",
       "      <td>BLACK/AFRICAN AMERICAN</td>\n",
       "      <td>0.0</td>\n",
       "      <td>0 days 23:32:00</td>\n",
       "      <td>0 days 00:00:00</td>\n",
       "    </tr>\n",
       "    <tr>\n",
       "      <th>30</th>\n",
       "      <td>10088</td>\n",
       "      <td>2107-01-04 11:59:00</td>\n",
       "      <td>2107-01-11 15:45:00</td>\n",
       "      <td>EMERGENCY</td>\n",
       "      <td>EMERGENCY ROOM ADMIT</td>\n",
       "      <td>SNF</td>\n",
       "      <td>Medicare</td>\n",
       "      <td>0</td>\n",
       "      <td>WHITE</td>\n",
       "      <td>1.0</td>\n",
       "      <td>7 days 03:46:00</td>\n",
       "      <td>0 days 03:51:00</td>\n",
       "    </tr>\n",
       "    <tr>\n",
       "      <th>22</th>\n",
       "      <td>10061</td>\n",
       "      <td>2107-01-16 11:33:00</td>\n",
       "      <td>2107-02-10 11:30:00</td>\n",
       "      <td>EMERGENCY</td>\n",
       "      <td>TRANSFER FROM HOSP/EXTRAM</td>\n",
       "      <td>REHAB/DISTINCT PART HOSP</td>\n",
       "      <td>Medicare</td>\n",
       "      <td>0</td>\n",
       "      <td>WHITE</td>\n",
       "      <td>0.0</td>\n",
       "      <td>24 days 23:57:00</td>\n",
       "      <td>0 days 00:00:00</td>\n",
       "    </tr>\n",
       "  </tbody>\n",
       "</table>\n",
       "</div>"
      ],
      "text/plain": [
       "     subject_id           admittime           dischtime admission_type  \\\n",
       "98        42231 2102-08-29 07:15:00 2102-09-06 16:20:00       ELECTIVE   \n",
       "118       43881 2104-09-24 17:31:00 2104-09-30 16:17:00      EMERGENCY   \n",
       "117       43879 2106-08-30 15:43:00 2106-08-31 15:15:00      EMERGENCY   \n",
       "30        10088 2107-01-04 11:59:00 2107-01-11 15:45:00      EMERGENCY   \n",
       "22        10061 2107-01-16 11:33:00 2107-02-10 11:30:00      EMERGENCY   \n",
       "\n",
       "            admission_location        discharge_location insurance  \\\n",
       "98   PHYS REFERRAL/NORMAL DELI          HOME HEALTH CARE  Medicare   \n",
       "118       EMERGENCY ROOM ADMIT          HOME HEALTH CARE   Private   \n",
       "117  CLINIC REFERRAL/PREMATURE                      HOME  Medicare   \n",
       "30        EMERGENCY ROOM ADMIT                       SNF  Medicare   \n",
       "22   TRANSFER FROM HOSP/EXTRAM  REHAB/DISTINCT PART HOSP  Medicare   \n",
       "\n",
       "     marital_status               ethnicity  30d_read   admit_duration  \\\n",
       "98                1                   WHITE       0.0  8 days 09:05:00   \n",
       "118               1                   WHITE       1.0  5 days 22:46:00   \n",
       "117               1  BLACK/AFRICAN AMERICAN       0.0  0 days 23:32:00   \n",
       "30                0                   WHITE       1.0  7 days 03:46:00   \n",
       "22                0                   WHITE       0.0 24 days 23:57:00   \n",
       "\n",
       "        ed_duration  \n",
       "98  0 days 00:00:00  \n",
       "118 0 days 06:43:00  \n",
       "117 0 days 00:00:00  \n",
       "30  0 days 03:51:00  \n",
       "22  0 days 00:00:00  "
      ]
     },
     "execution_count": 147,
     "metadata": {},
     "output_type": "execute_result"
    }
   ],
   "source": [
    "print(\"Admission:\", admis_df.shape)\n",
    "admis_df.head()"
   ]
  },
  {
   "cell_type": "code",
   "execution_count": 148,
   "metadata": {},
   "outputs": [
    {
     "name": "stdout",
     "output_type": "stream",
     "text": [
      "9\n"
     ]
    }
   ],
   "source": [
    "print(len(admis_df.loc[admis_df['30d_read'] == 1]))"
   ]
  },
  {
   "cell_type": "code",
   "execution_count": 149,
   "metadata": {},
   "outputs": [],
   "source": [
    "admis_df.to_csv('/Users/maxb/Library/CloudStorage/OneDrive-UniversityofWaterloo/Hospital Research/Datasets/Cleaned MIMIC-III Dataset/ADMISSION.csv')"
   ]
  }
 ],
 "metadata": {
  "kernelspec": {
   "display_name": "myenv",
   "language": "python",
   "name": "python3"
  },
  "language_info": {
   "codemirror_mode": {
    "name": "ipython",
    "version": 3
   },
   "file_extension": ".py",
   "mimetype": "text/x-python",
   "name": "python",
   "nbconvert_exporter": "python",
   "pygments_lexer": "ipython3",
   "version": "3.12.6"
  }
 },
 "nbformat": 4,
 "nbformat_minor": 2
}
