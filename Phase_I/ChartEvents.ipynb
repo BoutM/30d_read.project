{
 "cells": [
  {
   "cell_type": "markdown",
   "metadata": {},
   "source": [
    "# Chart Events"
   ]
  },
  {
   "cell_type": "markdown",
   "metadata": {},
   "source": [
    "Contains Patient input events while in ICU"
   ]
  },
  {
   "cell_type": "code",
   "execution_count": 164,
   "metadata": {},
   "outputs": [],
   "source": [
    "import pandas as pd  # type: ignore\n",
    "import os \n",
    "import glob \n",
    "from datetime import datetime\n",
    "import numpy as np\n",
    "\n",
    "import warnings\n",
    "# Temporarily suppress FutureWarnings\n",
    "with warnings.catch_warnings():\n",
    "    warnings.simplefilter(\"ignore\", FutureWarning)"
   ]
  },
  {
   "cell_type": "code",
   "execution_count": 165,
   "metadata": {},
   "outputs": [
    {
     "name": "stderr",
     "output_type": "stream",
     "text": [
      "/var/folders/l8/w77hdfv1735czt0xx90sm3_80000gn/T/ipykernel_37890/3455028685.py:4: DtypeWarning: Columns (8,10,13,14) have mixed types. Specify dtype option on import or set low_memory=False.\n",
      "  cevents_df = pd.read_csv(\"CHARTEVENTS.csv\")\n"
     ]
    }
   ],
   "source": [
    "directory = '/Users/maxb/Library/CloudStorage/OneDrive-UniversityofWaterloo/Hospital Research/Datasets/MIMIC-III_demo'\n",
    "os.chdir(directory)\n",
    "\n",
    "cevents_df = pd.read_csv(\"CHARTEVENTS.csv\")\n",
    "admdf = pd.read_csv('/Users/maxb/Library/CloudStorage/OneDrive-UniversityofWaterloo/Hospital Research/Datasets/Cleaned MIMIC-III Dataset/ADMISSION.csv')\n",
    "\n",
    "# Converting Date Time\n",
    "cevents_df['charttime'] = cevents_df['charttime'].apply(lambda x: datetime.strptime(x, '%Y-%m-%d %H:%M:%S'))"
   ]
  },
  {
   "cell_type": "code",
   "execution_count": 166,
   "metadata": {},
   "outputs": [],
   "source": [
    "# print(cevents_df['warning'].unique(), cevents_df['error'].unique(), cevents_df['resultstatus'].unique())\n",
    "# print(cevents_df['stopped'].unique())"
   ]
  },
  {
   "cell_type": "code",
   "execution_count": 167,
   "metadata": {},
   "outputs": [],
   "source": [
    "subjects = list(admdf['subject_id'])\n",
    "\n",
    "cevents_df_new = pd.DataFrame()\n",
    "\n",
    "for i in subjects:\n",
    "    if i in list(cevents_df['subject_id']):\n",
    "       cevents_df_new = pd.concat([cevents_df.loc[(cevents_df['subject_id'] == i) & (cevents_df['charttime'] >= pd.Series.to_string(admdf.loc[admdf['subject_id'] ==  i, 'admittime'], index=False)) & \n",
    "                            (cevents_df['charttime'] <= pd.Series.to_string(admdf.loc[admdf['subject_id'] ==  i, 'dischtime'], index=False))], cevents_df_new])\n",
    "\n",
    "cevents_df = cevents_df_new\n",
    "cevents_df = cevents_df[['subject_id', 'hadm_id', 'itemid', 'value', 'valueuom', 'cgid']]"
   ]
  },
  {
   "cell_type": "code",
   "execution_count": 168,
   "metadata": {},
   "outputs": [
    {
     "name": "stdout",
     "output_type": "stream",
     "text": [
      "value\n",
      "Nan value found\n",
      "valueuom\n",
      "Nan value found\n"
     ]
    }
   ],
   "source": [
    "cols = list(cevents_df.columns)\n",
    "\n",
    "\n",
    "for i in cols:\n",
    "    check_nan = cevents_df[i].isnull().values.any()\n",
    "    if check_nan == True:\n",
    "        print(i)\n",
    "        print(\"Nan value found\")"
   ]
  },
  {
   "cell_type": "code",
   "execution_count": 169,
   "metadata": {},
   "outputs": [],
   "source": [
    "cevents_df = cevents_df.fillna(0)"
   ]
  },
  {
   "cell_type": "code",
   "execution_count": 170,
   "metadata": {},
   "outputs": [
    {
     "name": "stdout",
     "output_type": "stream",
     "text": [
      "Chart Events: (341774, 6)\n"
     ]
    },
    {
     "data": {
      "text/html": [
       "<div>\n",
       "<style scoped>\n",
       "    .dataframe tbody tr th:only-of-type {\n",
       "        vertical-align: middle;\n",
       "    }\n",
       "\n",
       "    .dataframe tbody tr th {\n",
       "        vertical-align: top;\n",
       "    }\n",
       "\n",
       "    .dataframe thead th {\n",
       "        text-align: right;\n",
       "    }\n",
       "</style>\n",
       "<table border=\"1\" class=\"dataframe\">\n",
       "  <thead>\n",
       "    <tr style=\"text-align: right;\">\n",
       "      <th></th>\n",
       "      <th>subject_id</th>\n",
       "      <th>hadm_id</th>\n",
       "      <th>itemid</th>\n",
       "      <th>value</th>\n",
       "      <th>valueuom</th>\n",
       "      <th>cgid</th>\n",
       "    </tr>\n",
       "  </thead>\n",
       "  <tbody>\n",
       "    <tr>\n",
       "      <th>76557</th>\n",
       "      <td>43798</td>\n",
       "      <td>130870</td>\n",
       "      <td>223761</td>\n",
       "      <td>95.2</td>\n",
       "      <td>?F</td>\n",
       "      <td>14427</td>\n",
       "    </tr>\n",
       "    <tr>\n",
       "      <th>76558</th>\n",
       "      <td>43798</td>\n",
       "      <td>130870</td>\n",
       "      <td>220046</td>\n",
       "      <td>120</td>\n",
       "      <td>bpm</td>\n",
       "      <td>14427</td>\n",
       "    </tr>\n",
       "    <tr>\n",
       "      <th>76559</th>\n",
       "      <td>43798</td>\n",
       "      <td>130870</td>\n",
       "      <td>220047</td>\n",
       "      <td>60</td>\n",
       "      <td>bpm</td>\n",
       "      <td>14427</td>\n",
       "    </tr>\n",
       "    <tr>\n",
       "      <th>76560</th>\n",
       "      <td>43798</td>\n",
       "      <td>130870</td>\n",
       "      <td>220050</td>\n",
       "      <td>155</td>\n",
       "      <td>mmHg</td>\n",
       "      <td>14427</td>\n",
       "    </tr>\n",
       "    <tr>\n",
       "      <th>76561</th>\n",
       "      <td>43798</td>\n",
       "      <td>130870</td>\n",
       "      <td>220051</td>\n",
       "      <td>76</td>\n",
       "      <td>mmHg</td>\n",
       "      <td>14427</td>\n",
       "    </tr>\n",
       "  </tbody>\n",
       "</table>\n",
       "</div>"
      ],
      "text/plain": [
       "       subject_id  hadm_id  itemid value valueuom   cgid\n",
       "76557       43798   130870  223761  95.2       ?F  14427\n",
       "76558       43798   130870  220046   120      bpm  14427\n",
       "76559       43798   130870  220047    60      bpm  14427\n",
       "76560       43798   130870  220050   155     mmHg  14427\n",
       "76561       43798   130870  220051    76     mmHg  14427"
      ]
     },
     "execution_count": 170,
     "metadata": {},
     "output_type": "execute_result"
    }
   ],
   "source": [
    "print(\"Chart Events:\", cevents_df.shape)\n",
    "cevents_df.head()"
   ]
  },
  {
   "cell_type": "code",
   "execution_count": 171,
   "metadata": {},
   "outputs": [],
   "source": [
    "cevents_df.to_csv('/Users/maxb/Library/CloudStorage/OneDrive-UniversityofWaterloo/Hospital Research/Datasets/Cleaned MIMIC-III Dataset/CHARTEVENTS.csv')"
   ]
  },
  {
   "cell_type": "markdown",
   "metadata": {},
   "source": [
    "# Data Cleaned"
   ]
  }
 ],
 "metadata": {
  "kernelspec": {
   "display_name": "myenv",
   "language": "python",
   "name": "python3"
  },
  "language_info": {
   "codemirror_mode": {
    "name": "ipython",
    "version": 3
   },
   "file_extension": ".py",
   "mimetype": "text/x-python",
   "name": "python",
   "nbconvert_exporter": "python",
   "pygments_lexer": "ipython3",
   "version": "3.12.6"
  }
 },
 "nbformat": 4,
 "nbformat_minor": 2
}
