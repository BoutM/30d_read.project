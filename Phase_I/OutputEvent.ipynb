{
 "cells": [
  {
   "cell_type": "markdown",
   "metadata": {},
   "source": [
    "# Output Event Table"
   ]
  },
  {
   "cell_type": "markdown",
   "metadata": {},
   "source": [
    "Output data for patients"
   ]
  },
  {
   "cell_type": "code",
   "execution_count": 1,
   "metadata": {},
   "outputs": [],
   "source": [
    "import pandas as pd  # type: ignore\n",
    "import os \n",
    "import glob \n",
    "from datetime import datetime\n",
    "import numpy as np\n",
    "\n",
    "import warnings\n",
    "# Temporarily suppress FutureWarnings\n",
    "with warnings.catch_warnings():\n",
    "    warnings.simplefilter(\"ignore\", FutureWarning)"
   ]
  },
  {
   "cell_type": "code",
   "execution_count": 2,
   "metadata": {},
   "outputs": [
    {
     "data": {
      "text/html": [
       "<div>\n",
       "<style scoped>\n",
       "    .dataframe tbody tr th:only-of-type {\n",
       "        vertical-align: middle;\n",
       "    }\n",
       "\n",
       "    .dataframe tbody tr th {\n",
       "        vertical-align: top;\n",
       "    }\n",
       "\n",
       "    .dataframe thead th {\n",
       "        text-align: right;\n",
       "    }\n",
       "</style>\n",
       "<table border=\"1\" class=\"dataframe\">\n",
       "  <thead>\n",
       "    <tr style=\"text-align: right;\">\n",
       "      <th></th>\n",
       "      <th>row_id</th>\n",
       "      <th>subject_id</th>\n",
       "      <th>hadm_id</th>\n",
       "      <th>icustay_id</th>\n",
       "      <th>charttime</th>\n",
       "      <th>itemid</th>\n",
       "      <th>value</th>\n",
       "      <th>valueuom</th>\n",
       "      <th>storetime</th>\n",
       "      <th>cgid</th>\n",
       "      <th>stopped</th>\n",
       "      <th>newbottle</th>\n",
       "      <th>iserror</th>\n",
       "    </tr>\n",
       "  </thead>\n",
       "  <tbody>\n",
       "    <tr>\n",
       "      <th>0</th>\n",
       "      <td>6540</td>\n",
       "      <td>10114</td>\n",
       "      <td>167957</td>\n",
       "      <td>234989.0</td>\n",
       "      <td>2171-10-30 20:00:00</td>\n",
       "      <td>40055</td>\n",
       "      <td>39.0</td>\n",
       "      <td>ml</td>\n",
       "      <td>2171-10-30 20:38:00</td>\n",
       "      <td>15029</td>\n",
       "      <td>NaN</td>\n",
       "      <td>NaN</td>\n",
       "      <td>NaN</td>\n",
       "    </tr>\n",
       "    <tr>\n",
       "      <th>1</th>\n",
       "      <td>6541</td>\n",
       "      <td>10114</td>\n",
       "      <td>167957</td>\n",
       "      <td>234989.0</td>\n",
       "      <td>2171-10-30 21:00:00</td>\n",
       "      <td>40055</td>\n",
       "      <td>35.0</td>\n",
       "      <td>ml</td>\n",
       "      <td>2171-10-30 21:18:00</td>\n",
       "      <td>15029</td>\n",
       "      <td>NaN</td>\n",
       "      <td>NaN</td>\n",
       "      <td>NaN</td>\n",
       "    </tr>\n",
       "    <tr>\n",
       "      <th>2</th>\n",
       "      <td>6542</td>\n",
       "      <td>10114</td>\n",
       "      <td>167957</td>\n",
       "      <td>234989.0</td>\n",
       "      <td>2171-10-30 23:00:00</td>\n",
       "      <td>40055</td>\n",
       "      <td>100.0</td>\n",
       "      <td>ml</td>\n",
       "      <td>2171-10-30 23:31:00</td>\n",
       "      <td>15029</td>\n",
       "      <td>NaN</td>\n",
       "      <td>NaN</td>\n",
       "      <td>NaN</td>\n",
       "    </tr>\n",
       "    <tr>\n",
       "      <th>3</th>\n",
       "      <td>6543</td>\n",
       "      <td>10114</td>\n",
       "      <td>167957</td>\n",
       "      <td>234989.0</td>\n",
       "      <td>2171-10-31 00:00:00</td>\n",
       "      <td>40055</td>\n",
       "      <td>45.0</td>\n",
       "      <td>ml</td>\n",
       "      <td>2171-10-31 00:24:00</td>\n",
       "      <td>15029</td>\n",
       "      <td>NaN</td>\n",
       "      <td>NaN</td>\n",
       "      <td>NaN</td>\n",
       "    </tr>\n",
       "    <tr>\n",
       "      <th>4</th>\n",
       "      <td>6544</td>\n",
       "      <td>10114</td>\n",
       "      <td>167957</td>\n",
       "      <td>234989.0</td>\n",
       "      <td>2171-10-31 02:00:00</td>\n",
       "      <td>40055</td>\n",
       "      <td>80.0</td>\n",
       "      <td>ml</td>\n",
       "      <td>2171-10-31 02:02:00</td>\n",
       "      <td>15029</td>\n",
       "      <td>NaN</td>\n",
       "      <td>NaN</td>\n",
       "      <td>NaN</td>\n",
       "    </tr>\n",
       "  </tbody>\n",
       "</table>\n",
       "</div>"
      ],
      "text/plain": [
       "   row_id  subject_id  hadm_id  icustay_id            charttime  itemid  \\\n",
       "0    6540       10114   167957    234989.0  2171-10-30 20:00:00   40055   \n",
       "1    6541       10114   167957    234989.0  2171-10-30 21:00:00   40055   \n",
       "2    6542       10114   167957    234989.0  2171-10-30 23:00:00   40055   \n",
       "3    6543       10114   167957    234989.0  2171-10-31 00:00:00   40055   \n",
       "4    6544       10114   167957    234989.0  2171-10-31 02:00:00   40055   \n",
       "\n",
       "   value valueuom            storetime   cgid  stopped  newbottle  iserror  \n",
       "0   39.0       ml  2171-10-30 20:38:00  15029      NaN        NaN      NaN  \n",
       "1   35.0       ml  2171-10-30 21:18:00  15029      NaN        NaN      NaN  \n",
       "2  100.0       ml  2171-10-30 23:31:00  15029      NaN        NaN      NaN  \n",
       "3   45.0       ml  2171-10-31 00:24:00  15029      NaN        NaN      NaN  \n",
       "4   80.0       ml  2171-10-31 02:02:00  15029      NaN        NaN      NaN  "
      ]
     },
     "execution_count": 2,
     "metadata": {},
     "output_type": "execute_result"
    }
   ],
   "source": [
    "directory = '/Users/maxb/Library/CloudStorage/OneDrive-UniversityofWaterloo/Hospital Research/Datasets/MIMIC-III_demo'\n",
    "os.chdir(directory)\n",
    "\n",
    "oevents_df = pd.read_csv(\"OUTPUTEVENTS.csv\")\n",
    "oevents_df.head()"
   ]
  },
  {
   "cell_type": "code",
   "execution_count": 3,
   "metadata": {},
   "outputs": [
    {
     "name": "stdout",
     "output_type": "stream",
     "text": [
      "value\n",
      "Nan value found\n"
     ]
    }
   ],
   "source": [
    "oevents_df = oevents_df[['subject_id', 'hadm_id', #'icustay_id', \n",
    "                         'itemid', 'value', 'valueuom', 'cgid']]\n",
    "\n",
    "cols = list(oevents_df.columns)\n",
    "\n",
    "for i in cols:\n",
    "    check_nan = oevents_df [i].isnull().values.any()\n",
    "    if check_nan == True:\n",
    "        print(i)\n",
    "        print(\"Nan value found\")\n",
    "        break"
   ]
  },
  {
   "cell_type": "code",
   "execution_count": 4,
   "metadata": {},
   "outputs": [],
   "source": [
    "oevents_df['value'] = oevents_df['value'].fillna(0)\n",
    "oevents_df['valueuom'] = oevents_df['valueuom'].fillna(0)"
   ]
  },
  {
   "cell_type": "code",
   "execution_count": 5,
   "metadata": {},
   "outputs": [],
   "source": [
    "for i in cols:\n",
    "    check_nan = oevents_df [i].isnull().values.any()\n",
    "    if check_nan == True:\n",
    "        print(i)\n",
    "        print(\"Nan value found\")\n",
    "        break"
   ]
  },
  {
   "cell_type": "code",
   "execution_count": 6,
   "metadata": {},
   "outputs": [
    {
     "name": "stdout",
     "output_type": "stream",
     "text": [
      "Output Events: (11320, 6)\n"
     ]
    },
    {
     "data": {
      "text/html": [
       "<div>\n",
       "<style scoped>\n",
       "    .dataframe tbody tr th:only-of-type {\n",
       "        vertical-align: middle;\n",
       "    }\n",
       "\n",
       "    .dataframe tbody tr th {\n",
       "        vertical-align: top;\n",
       "    }\n",
       "\n",
       "    .dataframe thead th {\n",
       "        text-align: right;\n",
       "    }\n",
       "</style>\n",
       "<table border=\"1\" class=\"dataframe\">\n",
       "  <thead>\n",
       "    <tr style=\"text-align: right;\">\n",
       "      <th></th>\n",
       "      <th>subject_id</th>\n",
       "      <th>hadm_id</th>\n",
       "      <th>itemid</th>\n",
       "      <th>value</th>\n",
       "      <th>valueuom</th>\n",
       "      <th>cgid</th>\n",
       "    </tr>\n",
       "  </thead>\n",
       "  <tbody>\n",
       "    <tr>\n",
       "      <th>0</th>\n",
       "      <td>10114</td>\n",
       "      <td>167957</td>\n",
       "      <td>40055</td>\n",
       "      <td>39.0</td>\n",
       "      <td>ml</td>\n",
       "      <td>15029</td>\n",
       "    </tr>\n",
       "    <tr>\n",
       "      <th>1</th>\n",
       "      <td>10114</td>\n",
       "      <td>167957</td>\n",
       "      <td>40055</td>\n",
       "      <td>35.0</td>\n",
       "      <td>ml</td>\n",
       "      <td>15029</td>\n",
       "    </tr>\n",
       "    <tr>\n",
       "      <th>2</th>\n",
       "      <td>10114</td>\n",
       "      <td>167957</td>\n",
       "      <td>40055</td>\n",
       "      <td>100.0</td>\n",
       "      <td>ml</td>\n",
       "      <td>15029</td>\n",
       "    </tr>\n",
       "    <tr>\n",
       "      <th>3</th>\n",
       "      <td>10114</td>\n",
       "      <td>167957</td>\n",
       "      <td>40055</td>\n",
       "      <td>45.0</td>\n",
       "      <td>ml</td>\n",
       "      <td>15029</td>\n",
       "    </tr>\n",
       "    <tr>\n",
       "      <th>4</th>\n",
       "      <td>10114</td>\n",
       "      <td>167957</td>\n",
       "      <td>40055</td>\n",
       "      <td>80.0</td>\n",
       "      <td>ml</td>\n",
       "      <td>15029</td>\n",
       "    </tr>\n",
       "  </tbody>\n",
       "</table>\n",
       "</div>"
      ],
      "text/plain": [
       "   subject_id  hadm_id  itemid  value valueuom   cgid\n",
       "0       10114   167957   40055   39.0       ml  15029\n",
       "1       10114   167957   40055   35.0       ml  15029\n",
       "2       10114   167957   40055  100.0       ml  15029\n",
       "3       10114   167957   40055   45.0       ml  15029\n",
       "4       10114   167957   40055   80.0       ml  15029"
      ]
     },
     "execution_count": 6,
     "metadata": {},
     "output_type": "execute_result"
    }
   ],
   "source": [
    "print(\"Output Events:\", oevents_df.shape)\n",
    "oevents_df.head()"
   ]
  },
  {
   "cell_type": "code",
   "execution_count": 7,
   "metadata": {},
   "outputs": [],
   "source": [
    "oevents_df.to_csv('/Users/maxb/Library/CloudStorage/OneDrive-UniversityofWaterloo/Hospital Research/Scripts/Cleaned MIMIC-III Datasets/OUTPUTEVENTS.csv')"
   ]
  },
  {
   "cell_type": "markdown",
   "metadata": {},
   "source": [
    "# Data Cleaned"
   ]
  }
 ],
 "metadata": {
  "kernelspec": {
   "display_name": "myenv",
   "language": "python",
   "name": "python3"
  },
  "language_info": {
   "codemirror_mode": {
    "name": "ipython",
    "version": 3
   },
   "file_extension": ".py",
   "mimetype": "text/x-python",
   "name": "python",
   "nbconvert_exporter": "python",
   "pygments_lexer": "ipython3",
   "version": "3.12.6"
  }
 },
 "nbformat": 4,
 "nbformat_minor": 2
}
